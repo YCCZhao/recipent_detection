{
 "cells": [
  {
   "cell_type": "code",
   "execution_count": 58,
   "metadata": {
    "collapsed": true
   },
   "outputs": [],
   "source": [
    "import csv\n",
    "import re\n",
    "import nltk"
   ]
  },
  {
   "cell_type": "code",
   "execution_count": 92,
   "metadata": {
    "collapsed": true
   },
   "outputs": [],
   "source": [
    "wake_words = ['Tell',\n",
    "              'Notify',\n",
    "              'Ask',\n",
    "              'Inform',\n",
    "              'Message',\n",
    "              'Text',\n",
    "              'Reply to',\n",
    "              'Advise',\n",
    "              'Disclose to',\n",
    "              'Mention to',\n",
    "              'Report to',\n",
    "              'Reveal to'\n",
    "             ]\n"
   ]
  },
  {
   "cell_type": "code",
   "execution_count": 73,
   "metadata": {},
   "outputs": [],
   "source": [
    "file = open(\"./cornell_movie-dialogs_corpus/movie_lines.txt\", \"rb\") \n",
    "#file = open(\"./sample.txt\", \"rb\")\n",
    "recipents, messages = [], []\n",
    "for line in file:\n",
    "    line = line.decode('utf-8', errors='ignore').strip('\\n')\n",
    "    split_line = line.split(\"+++$+++\")\n",
    "    recipent = split_line[3].strip()\n",
    "    sentences = nltk.sent_tokenize(split_line[-1].strip())\n",
    "    #print(split_line)\n",
    "    if len(recipent) < 1:\n",
    "        continue\n",
    "    else:\n",
    "        recipents.append(recipent[0]+recipent[1:].lower())\n",
    "    messages.extend(sentences)"
   ]
  },
  {
   "cell_type": "code",
   "execution_count": 74,
   "metadata": {
    "collapsed": true
   },
   "outputs": [],
   "source": [
    "recipents = list(set(recipents))"
   ]
  },
  {
   "cell_type": "code",
   "execution_count": 75,
   "metadata": {},
   "outputs": [],
   "source": [
    "from random import shuffle\n",
    "shuffle(messages)"
   ]
  },
  {
   "cell_type": "code",
   "execution_count": 101,
   "metadata": {},
   "outputs": [],
   "source": [
    "num_messages = len(messages)\n",
    "i = 0\n",
    "dataset = []\n",
    "labels = []\n",
    "\n",
    "while i < num_messages:\n",
    "    # Wake words\n",
    "    if random.random() < 0.5:\n",
    "        command = \"Can you \"\\\n",
    "                  + random.sample(wake_words, 1)[0].lower()\\\n",
    "                  + \" \"              \n",
    "    else:\n",
    "        command = random.sample(wake_words, 1)[0]\\\n",
    "                  + \" \"\n",
    "            \n",
    "    # Recipent\n",
    "    recipent = random.sample(recipents, 1)[0]\n",
    "    command += recipent\n",
    "    labels.append(recipent)\n",
    "    \n",
    "    # Message(s)\n",
    "    if random.random() < 0.5:\n",
    "        command += ' that'\n",
    "        \n",
    "    command += \" \" + messages[i]\n",
    "    i += 1\n",
    "    \n",
    "    if random.random() < 0.25 and i < num_messages:\n",
    "        command += \" and that \"\\\n",
    "                   + messages[i]\n",
    "        i += 1\n",
    "        \n",
    "    dataset.append(command)\n",
    "            "
   ]
  },
  {
   "cell_type": "code",
   "execution_count": 102,
   "metadata": {},
   "outputs": [
    {
     "data": {
      "text/plain": [
       "[\"Can you reveal to Kenai Lifestyles of the Rich and Psychotic. and that You mean he's polymerized, like me?\",\n",
       " 'Reveal to Moffett I know my own capacity.',\n",
       " 'Reply to B20 Forget fulness... irritability... depression?',\n",
       " \"Can you mention to Webb that Yes, you're gettin' it all over my tie.\",\n",
       " 'Can you message Spieler that The one good lesson he taught me, Louis.',\n",
       " 'Can you reveal to Pace that They must be Saudis.',\n",
       " 'Can you disclose to Frank brand Please, just take the fall!',\n",
       " 'Can you message Elmore that Will this go on my record?',\n",
       " 'Inform Landon Yah, right -',\n",
       " \"Disclose to Dorie I know what you're thinking, she's a hysteric pure and simple. and that Looks like just two.\"]"
      ]
     },
     "execution_count": 102,
     "metadata": {},
     "output_type": "execute_result"
    }
   ],
   "source": [
    "random.sample(dataset, 10)"
   ]
  },
  {
   "cell_type": "code",
   "execution_count": 103,
   "metadata": {},
   "outputs": [
    {
     "data": {
      "text/plain": [
       "'Cluett'"
      ]
     },
     "execution_count": 103,
     "metadata": {},
     "output_type": "execute_result"
    }
   ],
   "source": [
    "labels[0]"
   ]
  },
  {
   "cell_type": "code",
   "execution_count": 104,
   "metadata": {},
   "outputs": [
    {
     "data": {
      "text/plain": [
       "'Can you ask Cluett that You are on foreign soil.'"
      ]
     },
     "execution_count": 104,
     "metadata": {},
     "output_type": "execute_result"
    }
   ],
   "source": [
    "dataset[0]"
   ]
  },
  {
   "cell_type": "code",
   "execution_count": 107,
   "metadata": {},
   "outputs": [
    {
     "name": "stdout",
     "output_type": "stream",
     "text": [
      "['Can', 'you', 'ask', 'Cluett', 'that', 'You', 'are', 'on', 'foreign', 'soil', '.']\n"
     ]
    }
   ],
   "source": [
    "import nltk\n",
    "\n",
    "words = nltk.word_tokenize(dataset[0])\n",
    "\n",
    "#words=[word.lower() for word in words if word.isalpha()]\n",
    "\n",
    "print(words)"
   ]
  },
  {
   "cell_type": "code",
   "execution_count": null,
   "metadata": {
    "collapsed": true
   },
   "outputs": [],
   "source": []
  }
 ],
 "metadata": {
  "kernelspec": {
   "display_name": "Python 3",
   "language": "python",
   "name": "python3"
  },
  "language_info": {
   "codemirror_mode": {
    "name": "ipython",
    "version": 3
   },
   "file_extension": ".py",
   "mimetype": "text/x-python",
   "name": "python",
   "nbconvert_exporter": "python",
   "pygments_lexer": "ipython3",
   "version": "3.6.3"
  }
 },
 "nbformat": 4,
 "nbformat_minor": 2
}
